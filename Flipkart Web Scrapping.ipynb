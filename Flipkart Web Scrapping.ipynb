{
 "cells": [
  {
   "cell_type": "code",
   "execution_count": 1,
   "id": "d2b9304b-f17d-4c16-9eca-dd80e73656e6",
   "metadata": {},
   "outputs": [
    {
     "name": "stdout",
     "output_type": "stream",
     "text": [
      "Requirement already satisfied: openpyxl in c:\\users\\im\\appdata\\local\\programs\\python\\python312\\lib\\site-packages (3.1.5)\n",
      "Requirement already satisfied: et-xmlfile in c:\\users\\im\\appdata\\local\\programs\\python\\python312\\lib\\site-packages (from openpyxl) (2.0.0)\n",
      "Note: you may need to restart the kernel to use updated packages.\n"
     ]
    },
    {
     "name": "stderr",
     "output_type": "stream",
     "text": [
      "\n",
      "[notice] A new release of pip is available: 24.2 -> 24.3.1\n",
      "[notice] To update, run: python.exe -m pip install --upgrade pip\n"
     ]
    }
   ],
   "source": [
    "pip install openpyxl"
   ]
  },
  {
   "cell_type": "code",
   "execution_count": 2,
   "id": "4cdfbde9-99ef-461c-a5e7-c1f8c7a059f3",
   "metadata": {},
   "outputs": [],
   "source": [
    "import requests as rq\n",
    "import pandas as pd\n",
    "from bs4 import BeautifulSoup as bs"
   ]
  },
  {
   "cell_type": "code",
   "execution_count": 3,
   "id": "9821900b-c990-46e5-8531-754967fe11a3",
   "metadata": {},
   "outputs": [],
   "source": [
    "url ='https://www.flipkart.com/search?q=laptops&as=on&as-show=on&otracker=AS_Query_TrendingAutoSuggest_4_0_na_na_na&otracker1=AS_Query_TrendingAutoSuggest_4_0_na_na_na&as-pos=4&as-type=TRENDING&suggestionId=laptops&requestId=d7f0e667-a4ff-43cd-8765-ff202b124dd0&page=1'"
   ]
  },
  {
   "cell_type": "code",
   "execution_count": 4,
   "id": "f6b1cfdd-adcc-4ef8-8d7e-b6c9489f032c",
   "metadata": {},
   "outputs": [],
   "source": [
    "r = rq.get(url)"
   ]
  },
  {
   "cell_type": "code",
   "execution_count": 5,
   "id": "66a95516-900d-4992-aeba-a7142eb201d3",
   "metadata": {},
   "outputs": [
    {
     "data": {
      "text/plain": [
       "<Response [200]>"
      ]
     },
     "execution_count": 5,
     "metadata": {},
     "output_type": "execute_result"
    }
   ],
   "source": [
    "r"
   ]
  },
  {
   "cell_type": "code",
   "execution_count": 6,
   "id": "8fa6fcb4-73fd-4cf4-8b1c-ca7b2b2c3647",
   "metadata": {},
   "outputs": [],
   "source": [
    "soup = bs(r.text,\"html\")\n",
    "#soup"
   ]
  },
  {
   "cell_type": "code",
   "execution_count": 7,
   "id": "3545ff85-1e53-423c-8779-3f5bd299b234",
   "metadata": {},
   "outputs": [
    {
     "data": {
      "text/plain": [
       "'/search?q=laptops&as=on&as-show=on&otracker=AS_Query_TrendingAutoSuggest_4_0_na_na_na&otracker1=AS_Query_TrendingAutoSuggest_4_0_na_na_na&as-pos=4&as-type=TRENDING&suggestionId=laptops&requestId=d7f0e667-a4ff-43cd-8765-ff202b124dd0&page=2'"
      ]
     },
     "execution_count": 7,
     "metadata": {},
     "output_type": "execute_result"
    }
   ],
   "source": [
    "a = soup.find('a',class_ = \"_9QVEpD\").get(\"href\")\n",
    "a"
   ]
  },
  {
   "cell_type": "code",
   "execution_count": 8,
   "id": "1a2141c5-d3e6-4b68-bb2c-2a7d50a5688f",
   "metadata": {},
   "outputs": [
    {
     "data": {
      "text/plain": [
       "'https://www.flipkart.com/search?q=laptops&as=on&as-show=on&otracker=AS_Query_TrendingAutoSuggest_4_0_na_na_na&otracker1=AS_Query_TrendingAutoSuggest_4_0_na_na_na&as-pos=4&as-type=TRENDING&suggestionId=laptops&requestId=d7f0e667-a4ff-43cd-8765-ff202b124dd0&page=2'"
      ]
     },
     "execution_count": 8,
     "metadata": {},
     "output_type": "execute_result"
    }
   ],
   "source": [
    "link = \"https://www.flipkart.com\" + a\n",
    "link"
   ]
  },
  {
   "cell_type": "code",
   "execution_count": 9,
   "id": "094c47aa-8ec2-4281-85d8-64e302d79258",
   "metadata": {},
   "outputs": [
    {
     "name": "stdout",
     "output_type": "stream",
     "text": [
      "<Response [200]>\n"
     ]
    }
   ],
   "source": [
    "url = link\n",
    "re = rq.get(url)\n",
    "print(re)"
   ]
  },
  {
   "cell_type": "code",
   "execution_count": 10,
   "id": "8b4c0ef5-2f83-40cb-9279-d18956b05ef4",
   "metadata": {},
   "outputs": [],
   "source": [
    "soup = bs(re.text,\"html\")\n",
    "# soup"
   ]
  },
  {
   "cell_type": "code",
   "execution_count": 11,
   "id": "ad00f2ba-d443-47d1-94b4-908460402d57",
   "metadata": {},
   "outputs": [
    {
     "name": "stdout",
     "output_type": "stream",
     "text": [
      "https://www.flipkart.com/search?q=laptops&as=on&as-show=on&otracker=AS_Query_TrendingAutoSuggest_4_0_na_na_na&otracker1=AS_Query_TrendingAutoSuggest_4_0_na_na_na&as-pos=4&as-type=TRENDING&suggestionId=laptops&requestId=d7f0e667-a4ff-43cd-8765-ff202b124dd0&page=1\n",
      "https://www.flipkart.com/search?q=laptops&as=on&as-show=on&otracker=AS_Query_TrendingAutoSuggest_4_0_na_na_na&otracker1=AS_Query_TrendingAutoSuggest_4_0_na_na_na&as-pos=4&as-type=TRENDING&suggestionId=laptops&requestId=d7f0e667-a4ff-43cd-8765-ff202b124dd0&page=2\n",
      "https://www.flipkart.com/search?q=laptops&as=on&as-show=on&otracker=AS_Query_TrendingAutoSuggest_4_0_na_na_na&otracker1=AS_Query_TrendingAutoSuggest_4_0_na_na_na&as-pos=4&as-type=TRENDING&suggestionId=laptops&requestId=d7f0e667-a4ff-43cd-8765-ff202b124dd0&page=3\n",
      "https://www.flipkart.com/search?q=laptops&as=on&as-show=on&otracker=AS_Query_TrendingAutoSuggest_4_0_na_na_na&otracker1=AS_Query_TrendingAutoSuggest_4_0_na_na_na&as-pos=4&as-type=TRENDING&suggestionId=laptops&requestId=d7f0e667-a4ff-43cd-8765-ff202b124dd0&page=4\n",
      "https://www.flipkart.com/search?q=laptops&as=on&as-show=on&otracker=AS_Query_TrendingAutoSuggest_4_0_na_na_na&otracker1=AS_Query_TrendingAutoSuggest_4_0_na_na_na&as-pos=4&as-type=TRENDING&suggestionId=laptops&requestId=d7f0e667-a4ff-43cd-8765-ff202b124dd0&page=5\n",
      "https://www.flipkart.com/search?q=laptops&as=on&as-show=on&otracker=AS_Query_TrendingAutoSuggest_4_0_na_na_na&otracker1=AS_Query_TrendingAutoSuggest_4_0_na_na_na&as-pos=4&as-type=TRENDING&suggestionId=laptops&requestId=d7f0e667-a4ff-43cd-8765-ff202b124dd0&page=6\n",
      "https://www.flipkart.com/search?q=laptops&as=on&as-show=on&otracker=AS_Query_TrendingAutoSuggest_4_0_na_na_na&otracker1=AS_Query_TrendingAutoSuggest_4_0_na_na_na&as-pos=4&as-type=TRENDING&suggestionId=laptops&requestId=d7f0e667-a4ff-43cd-8765-ff202b124dd0&page=7\n",
      "https://www.flipkart.com/search?q=laptops&as=on&as-show=on&otracker=AS_Query_TrendingAutoSuggest_4_0_na_na_na&otracker1=AS_Query_TrendingAutoSuggest_4_0_na_na_na&as-pos=4&as-type=TRENDING&suggestionId=laptops&requestId=d7f0e667-a4ff-43cd-8765-ff202b124dd0&page=8\n",
      "https://www.flipkart.com/search?q=laptops&as=on&as-show=on&otracker=AS_Query_TrendingAutoSuggest_4_0_na_na_na&otracker1=AS_Query_TrendingAutoSuggest_4_0_na_na_na&as-pos=4&as-type=TRENDING&suggestionId=laptops&requestId=d7f0e667-a4ff-43cd-8765-ff202b124dd0&page=9\n",
      "https://www.flipkart.com/search?q=laptops&as=on&as-show=on&otracker=AS_Query_TrendingAutoSuggest_4_0_na_na_na&otracker1=AS_Query_TrendingAutoSuggest_4_0_na_na_na&as-pos=4&as-type=TRENDING&suggestionId=laptops&requestId=d7f0e667-a4ff-43cd-8765-ff202b124dd0&page=10\n"
     ]
    }
   ],
   "source": [
    "for i in range(2,12):\n",
    "    url=\"https://www.flipkart.com/search?q=laptops&as=on&as-show=on&otracker=AS_Query_TrendingAutoSuggest_4_0_na_na_na&otracker1=AS_Query_TrendingAutoSuggest_4_0_na_na_na&as-pos=4&as-type=TRENDING&suggestionId=laptops&requestId=d7f0e667-a4ff-43cd-8765-ff202b124dd0&page=\"+str(i)\n",
    "    r =rq.get(url)\n",
    "    soup = bs(r.text,\"html\")\n",
    "    np = soup.find('a',class_='_9QVEpD').get('href')\n",
    "    comp_link =  \"https://www.flipkart.com\"+np\n",
    "    print(comp_link)"
   ]
  },
  {
   "cell_type": "code",
   "execution_count": 12,
   "id": "e1501567-a195-4220-ab05-3c355728ceec",
   "metadata": {},
   "outputs": [
    {
     "name": "stdout",
     "output_type": "stream",
     "text": [
      "[<div class=\"KzDlHZ\">MSI Cyborg 15 Intel Core i5 12th Gen 12450H - (16 GB/512 GB SSD/Windows 11 Home/4 GB Graphics/NVIDIA G...</div>, <div class=\"KzDlHZ\">Lenovo Intel Core i7 12th Gen 1255U - (16 GB/512 GB SSD/Windows 11 Home) V15 G3 IAP Thin and Light Lap...</div>, <div class=\"KzDlHZ\">Lenovo IdeaPad 1 Intel Celeron Dual Core N4020 - (8 GB/512 GB SSD/Windows 11 Home) 14IGL7/ 15IGL7 Thin...</div>, <div class=\"KzDlHZ\">DELL Inspiron Intel Core i3 11th Gen 1115G4 - (8 GB/512 GB SSD/Windows 11 Home) INSPIRON 3511 Thin and...</div>, <div class=\"KzDlHZ\">ASUS Vivobook S 15 OLED Intel Core i9 13th Gen 13900H - (16 GB/512 GB SSD/Windows 11 Home) S5504VA-MA9...</div>, <div class=\"KzDlHZ\">HP OMEN Intel Core i5 13th Gen 13420H - (16 GB/512 GB SSD/Windows 11 Home/6 GB Graphics/NVIDIA GeForce...</div>, <div class=\"KzDlHZ\">MSI Cyborg 15 AI PC Intel Core Ultra 7 155H - (16 GB/1 TB SSD/Windows 11 Home/8 GB Graphics/NVIDIA GeF...</div>, <div class=\"KzDlHZ\">MSI Cyborg 15 AI PC Intel Core Ultra 5 125H - (16 GB/1 TB SSD/Windows 11 Home/6 GB Graphics/NVIDIA GeF...</div>, <div class=\"KzDlHZ\">Lenovo IdeaPad Slim 5 Intel Core i5 13th Gen - (16 GB/512 GB SSD/Windows 11 Home) 82XD003MIN Thin and ...</div>, <div class=\"KzDlHZ\">MSI Modern 14 AMD Ryzen 5 Hexa Core 7530U - (16 GB/512 GB SSD/Windows 11 Home) Modern 14 C7M-062IN Thi...</div>, <div class=\"KzDlHZ\">MSI Thin A15 AMD Ryzen 5 Hexa Core 7535HS - (16 GB/512 GB SSD/Windows 11 Home/4 GB Graphics/NVIDIA GeF...</div>, <div class=\"KzDlHZ\">MSI Cyborg 15 AI PC Intel Core Ultra 7 155H - (16 GB/1 TB SSD/Windows 11 Home/6 GB Graphics/NVIDIA GeF...</div>, <div class=\"KzDlHZ\">MSI Crosshair 16 HX Intel Core i7 14th Gen 14700HX - (32 GB/1 TB SSD/Windows 11 Home/8 GB Graphics/NVI...</div>, <div class=\"KzDlHZ\">HP 255 G8 Silver AMD Ryzen 5 Hexa Core AMD Ryzen 5 5500U - (8 GB/256 GB SSD/Windows 11 Home) 255 Busin...</div>, <div class=\"KzDlHZ\">Lenovo IdeaPad Slim 3 Backlit AMD Ryzen 7 Octa Core 5th Gen - (16 GB/512 GB SSD/Windows 11 Home) 82KU0...</div>, <div class=\"KzDlHZ\">HP Pavilion Intel Core i7 13th Gen 1360P - (16 GB/1 TB SSD/Windows 11 Home) 15-eg3036TU Thin and Light...</div>, <div class=\"KzDlHZ\">MSI Thin 15 Intel Core i5 13th Gen 13420H - (16 GB/1 TB SSD/Windows 11 Home/6 GB Graphics/NVIDIA GeFor...</div>, <div class=\"KzDlHZ\">MSI Cyborg 15 Intel Core i5 12th Gen 12450H - (16 GB/512 GB SSD/Windows 11 Home/6 GB Graphics/NVIDIA G...</div>, <div class=\"KzDlHZ\">HP Laptop Intel Core i3 N305 - (8 GB/512 GB SSD/Windows 11 Home) 15-fd0123TU Thin and Light Laptop</div>, <div class=\"KzDlHZ\">DELL Inspiron 15 with Backlit Keyboard, Intel Core i5 12th Gen 1235U - (8 GB/512 GB SSD/Windows 11 Hom...</div>, <div class=\"KzDlHZ\">MSI Sword 16 HX Intel Core i7 14th Gen 14700HX - (16 GB/1 TB SSD/Windows 11 Home/8 GB Graphics/NVIDIA ...</div>, <div class=\"KzDlHZ\">Acer Aspire 7 Intel Core i5 12th Gen 12450H - (16 GB/512 GB SSD/Windows 11 Home/4 GB Graphics/NVIDIA G...</div>, <div class=\"KzDlHZ\">HP Intel Core Ultra 5 125H - (16 GB/512 GB SSD/Windows 11 Home) 14-gr1022TU Thin and Light Laptop</div>, <div class=\"KzDlHZ\">ASUS TUF Gaming F15 - AI Powered Gaming Intel Core i5 11th Gen 11260H - (8 GB/512 GB SSD/Windows 11 Ho...</div>]\n"
     ]
    }
   ],
   "source": [
    "name = soup.find_all(\"div\", class_ = \"KzDlHZ\")\n",
    "print(name)"
   ]
  },
  {
   "cell_type": "code",
   "execution_count": 13,
   "id": "72ef2248-998f-43f3-a230-773c5ad73ec7",
   "metadata": {},
   "outputs": [
    {
     "data": {
      "text/plain": [
       "[<div class=\"_6NESgJ\"><ul class=\"G4BRas\"><li class=\"J+igdf\">Intel Core i5 Processor (12th Gen)</li><li class=\"J+igdf\">16 GB DDR5 RAM</li><li class=\"J+igdf\">Windows 11 Operating System</li><li class=\"J+igdf\">512 GB SSD</li><li class=\"J+igdf\">39.62 cm (15.6 Inch) Display</li><li class=\"J+igdf\">2 Year Onsite Warranty</li></ul></div>,\n",
       " <div class=\"_6NESgJ\"><ul class=\"G4BRas\"><li class=\"J+igdf\">Intel Core i7 Processor (12th Gen)</li><li class=\"J+igdf\">16 GB DDR4 RAM</li><li class=\"J+igdf\">Windows 11 Operating System</li><li class=\"J+igdf\">512 GB SSD</li><li class=\"J+igdf\">39.62 cm (15.6 Inch) Display</li><li class=\"J+igdf\">1 Year Onsite Warranty</li></ul></div>,\n",
       " <div class=\"_6NESgJ\"><ul class=\"G4BRas\"><li class=\"J+igdf\">Intel Celeron Dual Core Processor</li><li class=\"J+igdf\">8 GB DDR4 RAM</li><li class=\"J+igdf\">Windows 11 Operating System</li><li class=\"J+igdf\">512 GB SSD</li><li class=\"J+igdf\">39.62 cm (15.6 Inch) Display</li><li class=\"J+igdf\">1 Yr. Onsite + 1 Yr. Accidental Damage Protection</li></ul></div>,\n",
       " <div class=\"_6NESgJ\"><ul class=\"G4BRas\"><li class=\"J+igdf\">Intel Core i3 Processor (11th Gen)</li><li class=\"J+igdf\">8 GB DDR4 RAM</li><li class=\"J+igdf\">64 bit Windows 11 Operating System</li><li class=\"J+igdf\">512 GB SSD</li><li class=\"J+igdf\">39.62 cm (15.6 inch) Display</li><li class=\"J+igdf\">1 Year Onsite Warranty</li></ul></div>,\n",
       " <div class=\"_6NESgJ\"><ul class=\"G4BRas\"><li class=\"J+igdf\">Intel Core i9 Processor (13th Gen)</li><li class=\"J+igdf\">16 GB LPDDR5 RAM</li><li class=\"J+igdf\">Windows 11 Operating System</li><li class=\"J+igdf\">512 GB SSD</li><li class=\"J+igdf\">39.62 cm (15.6 Inch) Display</li><li class=\"J+igdf\">1 Year Onsite Warranty</li></ul></div>,\n",
       " <div class=\"_6NESgJ\"><ul class=\"G4BRas\"><li class=\"J+igdf\">Intel Core i5 Processor (13th Gen)</li><li class=\"J+igdf\">16 GB DDR5 RAM</li><li class=\"J+igdf\">Windows 11 Operating System</li><li class=\"J+igdf\">512 GB SSD</li><li class=\"J+igdf\">40.89 cm (16.1 Inch) Display</li><li class=\"J+igdf\">1 Year Onsite Warranty</li></ul></div>,\n",
       " <div class=\"_6NESgJ\"><ul class=\"G4BRas\"><li class=\"J+igdf\">Intel Core Ultra 7 Processor</li><li class=\"J+igdf\">16 GB DDR5 RAM</li><li class=\"J+igdf\">Windows 11 Operating System</li><li class=\"J+igdf\">1 TB SSD</li><li class=\"J+igdf\">39.62 cm (15.6 Inch) Display</li><li class=\"J+igdf\">2 Year Carry-in Warranty</li></ul></div>,\n",
       " <div class=\"_6NESgJ\"><ul class=\"G4BRas\"><li class=\"J+igdf\">Intel Core Ultra 5 Processor</li><li class=\"J+igdf\">16 GB DDR5 RAM</li><li class=\"J+igdf\">Windows 11 Operating System</li><li class=\"J+igdf\">1 TB SSD</li><li class=\"J+igdf\">39.62 cm (15.6 Inch) Display</li><li class=\"J+igdf\">2 Year Carry-in Warranty</li></ul></div>,\n",
       " <div class=\"_6NESgJ\"><ul class=\"G4BRas\"><li class=\"J+igdf\">Intel Core i5 Processor (13th Gen)</li><li class=\"J+igdf\">16 GB LPDDR5 RAM</li><li class=\"J+igdf\">Windows 11 Operating System</li><li class=\"J+igdf\">512 GB SSD</li><li class=\"J+igdf\">35.56 cm (14 inch) Display</li><li class=\"J+igdf\">1Yr Warranty + 1 Yr Premium Care and 1 Yr Accidental Damage Protection</li></ul></div>,\n",
       " <div class=\"_6NESgJ\"><ul class=\"G4BRas\"><li class=\"J+igdf\">AMD Ryzen 5 Hexa Core Processor</li><li class=\"J+igdf\">16 GB DDR4 RAM</li><li class=\"J+igdf\">Windows 11 Operating System</li><li class=\"J+igdf\">512 GB SSD</li><li class=\"J+igdf\">35.56 cm (14 Inch) Display</li><li class=\"J+igdf\">1 Year Onsite Warranty</li></ul></div>,\n",
       " <div class=\"_6NESgJ\"><ul class=\"G4BRas\"><li class=\"J+igdf\">AMD Ryzen 5 Hexa Core Processor</li><li class=\"J+igdf\">16 GB DDR5 RAM</li><li class=\"J+igdf\">Windows 11 Operating System</li><li class=\"J+igdf\">512 GB SSD</li><li class=\"J+igdf\">39.62 cm (15.6 Inch) Display</li><li class=\"J+igdf\">2 Year Onsite Warranty</li></ul></div>,\n",
       " <div class=\"_6NESgJ\"><ul class=\"G4BRas\"><li class=\"J+igdf\">Intel Core Ultra 7 Processor</li><li class=\"J+igdf\">16 GB DDR5 RAM</li><li class=\"J+igdf\">Windows 11 Operating System</li><li class=\"J+igdf\">1 TB SSD</li><li class=\"J+igdf\">39.62 cm (15.6 Inch) Display</li><li class=\"J+igdf\">2 Year Carry-in Warranty</li></ul></div>,\n",
       " <div class=\"_6NESgJ\"><ul class=\"G4BRas\"><li class=\"J+igdf\">Intel Core i7 Processor (14th Gen)</li><li class=\"J+igdf\">32 GB DDR5 RAM</li><li class=\"J+igdf\">Windows 11 Operating System</li><li class=\"J+igdf\">1 TB SSD</li><li class=\"J+igdf\">40.64 cm (16 Inch) Display</li><li class=\"J+igdf\">2 Year Onsite Warranty</li></ul></div>,\n",
       " <div class=\"_6NESgJ\"><ul class=\"G4BRas\"><li class=\"J+igdf\">AMD Ryzen 5 Hexa Core Processor</li><li class=\"J+igdf\">8 GB DDR4 RAM</li><li class=\"J+igdf\">32 bit Windows 11 Operating System</li><li class=\"J+igdf\">256 GB SSD</li><li class=\"J+igdf\">39.62 cm (15.6 inch) Display</li><li class=\"J+igdf\">Windows</li><li class=\"J+igdf\">1 year Domestic warranty</li></ul></div>,\n",
       " <div class=\"_6NESgJ\"><ul class=\"G4BRas\"><li class=\"J+igdf\">AMD Ryzen 7 Octa Core Processor (5th Gen)</li><li class=\"J+igdf\">16 GB DDR4 RAM</li><li class=\"J+igdf\">Windows 11 Operating System</li><li class=\"J+igdf\">512 GB SSD</li><li class=\"J+igdf\">39.62 cm (15.6 inch) Display</li><li class=\"J+igdf\">1 Yr. Onsite + 1 Yr. Accidental Damage Protection</li></ul></div>,\n",
       " <div class=\"_6NESgJ\"><ul class=\"G4BRas\"><li class=\"J+igdf\">Intel Core i7 Processor (13th Gen)</li><li class=\"J+igdf\">16 GB DDR4 RAM</li><li class=\"J+igdf\">64 bit Windows 11 Operating System</li><li class=\"J+igdf\">1 TB SSD</li><li class=\"J+igdf\">39.62 cm (15.6 inch) Display</li><li class=\"J+igdf\">1 Year Onsite Warranty</li></ul></div>,\n",
       " <div class=\"_6NESgJ\"><ul class=\"G4BRas\"><li class=\"J+igdf\">Intel Core i5 Processor (13th Gen)</li><li class=\"J+igdf\">16 GB DDR4 RAM</li><li class=\"J+igdf\">Windows 11 Operating System</li><li class=\"J+igdf\">1 TB SSD</li><li class=\"J+igdf\">39.62 cm (15.6 Inch) Display</li><li class=\"J+igdf\">2 Year Onsite Warranty</li></ul></div>,\n",
       " <div class=\"_6NESgJ\"><ul class=\"G4BRas\"><li class=\"J+igdf\">Intel Core i5 Processor (12th Gen)</li><li class=\"J+igdf\">16 GB DDR5 RAM</li><li class=\"J+igdf\">Windows 11 Operating System</li><li class=\"J+igdf\">512 GB SSD</li><li class=\"J+igdf\">39.62 cm (15.6 Inch) Display</li><li class=\"J+igdf\">2 Year Onsite Warranty</li></ul></div>,\n",
       " <div class=\"_6NESgJ\"><ul class=\"G4BRas\"><li class=\"J+igdf\">Intel Core i3 Processor</li><li class=\"J+igdf\">8 GB DDR4 RAM</li><li class=\"J+igdf\">Windows 11 Home Operating System</li><li class=\"J+igdf\">512 GB SSD</li><li class=\"J+igdf\">39.62 cm (15.6 inch) Display</li><li class=\"J+igdf\">1 Year Carry-in Warranty</li></ul></div>,\n",
       " <div class=\"_6NESgJ\"><ul class=\"G4BRas\"><li class=\"J+igdf\">Intel Core i5 Processor (12th Gen)</li><li class=\"J+igdf\">8 GB DDR4 RAM</li><li class=\"J+igdf\">64 bit Windows 11 Operating System</li><li class=\"J+igdf\">512 GB SSD</li><li class=\"J+igdf\">39.62 cm (15.6 Inch) Display</li><li class=\"J+igdf\">1 Year Onsite Hardware Service</li></ul></div>,\n",
       " <div class=\"_6NESgJ\"><ul class=\"G4BRas\"><li class=\"J+igdf\">Intel Core i7 Processor (14th Gen)</li><li class=\"J+igdf\">16 GB DDR5 RAM</li><li class=\"J+igdf\">Windows 11 Operating System</li><li class=\"J+igdf\">1 TB SSD</li><li class=\"J+igdf\">40.64 cm (16 Inch) Display</li><li class=\"J+igdf\">2 Year Onsite Warranty</li></ul></div>,\n",
       " <div class=\"_6NESgJ\"><ul class=\"G4BRas\"><li class=\"J+igdf\">Intel Core i5 Processor (12th Gen)</li><li class=\"J+igdf\">16 GB DDR4 RAM</li><li class=\"J+igdf\">Windows 11 Operating System</li><li class=\"J+igdf\">512 GB SSD</li><li class=\"J+igdf\">39.62 cm (15.6 Inch) Display</li><li class=\"J+igdf\">1 Year Onsite Warranty</li></ul></div>,\n",
       " <div class=\"_6NESgJ\"><ul class=\"G4BRas\"><li class=\"J+igdf\">Intel Core Ultra 5 Processor</li><li class=\"J+igdf\">16 GB DDR5 RAM</li><li class=\"J+igdf\">Windows 11 Operating System</li><li class=\"J+igdf\">512 GB SSD</li><li class=\"J+igdf\">35.56 cm (14 Inch) Display</li><li class=\"J+igdf\">1 Year Onsite Warranty</li></ul></div>,\n",
       " <div class=\"_6NESgJ\"><ul class=\"G4BRas\"><li class=\"J+igdf\">Intel Core i5 Processor (11th Gen)</li><li class=\"J+igdf\">8 GB DDR4 RAM</li><li class=\"J+igdf\">Windows 11 Operating System</li><li class=\"J+igdf\">512 GB SSD</li><li class=\"J+igdf\">39.62 cm (15.6 Inch) Display</li><li class=\"J+igdf\">1 Year Carry-in Warranty</li></ul></div>]"
      ]
     },
     "execution_count": 13,
     "metadata": {},
     "output_type": "execute_result"
    }
   ],
   "source": [
    "details = soup.find_all(\"div\",class_ ='_6NESgJ')\n",
    "details"
   ]
  },
  {
   "cell_type": "code",
   "execution_count": 14,
   "id": "aac77b57-7cbf-47b7-b331-f3069abb3714",
   "metadata": {},
   "outputs": [],
   "source": [
    "Product_name = []\n",
    "for i in name:\n",
    "    Pro_name = i.text\n",
    "    Product_name.append(Pro_name)"
   ]
  },
  {
   "cell_type": "code",
   "execution_count": 15,
   "id": "3acfc91b-bfad-4dd4-a3b6-817f881a6543",
   "metadata": {},
   "outputs": [
    {
     "data": {
      "text/plain": [
       "['MSI Cyborg 15 Intel Core i5 12th Gen 12450H - (16 GB/512 GB SSD/Windows 11 Home/4 GB Graphics/NVIDIA G...',\n",
       " 'Lenovo Intel Core i7 12th Gen 1255U - (16 GB/512 GB SSD/Windows 11 Home) V15 G3 IAP Thin and Light Lap...',\n",
       " 'Lenovo IdeaPad 1 Intel Celeron Dual Core N4020 - (8 GB/512 GB SSD/Windows 11 Home) 14IGL7/ 15IGL7 Thin...',\n",
       " 'DELL Inspiron Intel Core i3 11th Gen 1115G4 - (8 GB/512 GB SSD/Windows 11 Home) INSPIRON 3511 Thin and...',\n",
       " 'ASUS Vivobook S 15 OLED Intel Core i9 13th Gen 13900H - (16 GB/512 GB SSD/Windows 11 Home) S5504VA-MA9...',\n",
       " 'HP OMEN Intel Core i5 13th Gen 13420H - (16 GB/512 GB SSD/Windows 11 Home/6 GB Graphics/NVIDIA GeForce...',\n",
       " 'MSI Cyborg 15 AI PC Intel Core Ultra 7 155H - (16 GB/1 TB SSD/Windows 11 Home/8 GB Graphics/NVIDIA GeF...',\n",
       " 'MSI Cyborg 15 AI PC Intel Core Ultra 5 125H - (16 GB/1 TB SSD/Windows 11 Home/6 GB Graphics/NVIDIA GeF...',\n",
       " 'Lenovo IdeaPad Slim 5 Intel Core i5 13th Gen - (16 GB/512 GB SSD/Windows 11 Home) 82XD003MIN Thin and ...',\n",
       " 'MSI Modern 14 AMD Ryzen 5 Hexa Core 7530U - (16 GB/512 GB SSD/Windows 11 Home) Modern 14 C7M-062IN Thi...',\n",
       " 'MSI Thin A15 AMD Ryzen 5 Hexa Core 7535HS - (16 GB/512 GB SSD/Windows 11 Home/4 GB Graphics/NVIDIA GeF...',\n",
       " 'MSI Cyborg 15 AI PC Intel Core Ultra 7 155H - (16 GB/1 TB SSD/Windows 11 Home/6 GB Graphics/NVIDIA GeF...',\n",
       " 'MSI Crosshair 16 HX Intel Core i7 14th Gen 14700HX - (32 GB/1 TB SSD/Windows 11 Home/8 GB Graphics/NVI...',\n",
       " 'HP 255 G8 Silver AMD Ryzen 5 Hexa Core AMD Ryzen 5 5500U - (8 GB/256 GB SSD/Windows 11 Home) 255 Busin...',\n",
       " 'Lenovo IdeaPad Slim 3 Backlit AMD Ryzen 7 Octa Core 5th Gen - (16 GB/512 GB SSD/Windows 11 Home) 82KU0...',\n",
       " 'HP Pavilion Intel Core i7 13th Gen 1360P - (16 GB/1 TB SSD/Windows 11 Home) 15-eg3036TU Thin and Light...',\n",
       " 'MSI Thin 15 Intel Core i5 13th Gen 13420H - (16 GB/1 TB SSD/Windows 11 Home/6 GB Graphics/NVIDIA GeFor...',\n",
       " 'MSI Cyborg 15 Intel Core i5 12th Gen 12450H - (16 GB/512 GB SSD/Windows 11 Home/6 GB Graphics/NVIDIA G...',\n",
       " 'HP Laptop Intel Core i3 N305 - (8 GB/512 GB SSD/Windows 11 Home) 15-fd0123TU Thin and Light Laptop',\n",
       " 'DELL Inspiron 15 with Backlit Keyboard, Intel Core i5 12th Gen 1235U - (8 GB/512 GB SSD/Windows 11 Hom...',\n",
       " 'MSI Sword 16 HX Intel Core i7 14th Gen 14700HX - (16 GB/1 TB SSD/Windows 11 Home/8 GB Graphics/NVIDIA ...',\n",
       " 'Acer Aspire 7 Intel Core i5 12th Gen 12450H - (16 GB/512 GB SSD/Windows 11 Home/4 GB Graphics/NVIDIA G...',\n",
       " 'HP Intel Core Ultra 5 125H - (16 GB/512 GB SSD/Windows 11 Home) 14-gr1022TU Thin and Light Laptop',\n",
       " 'ASUS TUF Gaming F15 - AI Powered Gaming Intel Core i5 11th Gen 11260H - (8 GB/512 GB SSD/Windows 11 Ho...']"
      ]
     },
     "execution_count": 15,
     "metadata": {},
     "output_type": "execute_result"
    }
   ],
   "source": [
    "Product_name\n"
   ]
  },
  {
   "cell_type": "code",
   "execution_count": 16,
   "id": "a2168428-0cc5-4059-9213-bde0ffbfb462",
   "metadata": {},
   "outputs": [
    {
     "data": {
      "text/plain": [
       "24"
      ]
     },
     "execution_count": 16,
     "metadata": {},
     "output_type": "execute_result"
    }
   ],
   "source": [
    "len(Product_name)"
   ]
  },
  {
   "cell_type": "code",
   "execution_count": 17,
   "id": "9cfdc12a-2324-411b-a378-e1cf66c446cc",
   "metadata": {},
   "outputs": [
    {
     "data": {
      "text/plain": [
       "[<ul class=\"G4BRas\"><li class=\"J+igdf\">Intel Core i5 Processor (12th Gen)</li><li class=\"J+igdf\">16 GB DDR5 RAM</li><li class=\"J+igdf\">Windows 11 Operating System</li><li class=\"J+igdf\">512 GB SSD</li><li class=\"J+igdf\">39.62 cm (15.6 Inch) Display</li><li class=\"J+igdf\">2 Year Onsite Warranty</li></ul>,\n",
       " <ul class=\"G4BRas\"><li class=\"J+igdf\">Intel Core i7 Processor (12th Gen)</li><li class=\"J+igdf\">16 GB DDR4 RAM</li><li class=\"J+igdf\">Windows 11 Operating System</li><li class=\"J+igdf\">512 GB SSD</li><li class=\"J+igdf\">39.62 cm (15.6 Inch) Display</li><li class=\"J+igdf\">1 Year Onsite Warranty</li></ul>,\n",
       " <ul class=\"G4BRas\"><li class=\"J+igdf\">Intel Celeron Dual Core Processor</li><li class=\"J+igdf\">8 GB DDR4 RAM</li><li class=\"J+igdf\">Windows 11 Operating System</li><li class=\"J+igdf\">512 GB SSD</li><li class=\"J+igdf\">39.62 cm (15.6 Inch) Display</li><li class=\"J+igdf\">1 Yr. Onsite + 1 Yr. Accidental Damage Protection</li></ul>,\n",
       " <ul class=\"G4BRas\"><li class=\"J+igdf\">Intel Core i3 Processor (11th Gen)</li><li class=\"J+igdf\">8 GB DDR4 RAM</li><li class=\"J+igdf\">64 bit Windows 11 Operating System</li><li class=\"J+igdf\">512 GB SSD</li><li class=\"J+igdf\">39.62 cm (15.6 inch) Display</li><li class=\"J+igdf\">1 Year Onsite Warranty</li></ul>,\n",
       " <ul class=\"G4BRas\"><li class=\"J+igdf\">Intel Core i9 Processor (13th Gen)</li><li class=\"J+igdf\">16 GB LPDDR5 RAM</li><li class=\"J+igdf\">Windows 11 Operating System</li><li class=\"J+igdf\">512 GB SSD</li><li class=\"J+igdf\">39.62 cm (15.6 Inch) Display</li><li class=\"J+igdf\">1 Year Onsite Warranty</li></ul>,\n",
       " <ul class=\"G4BRas\"><li class=\"J+igdf\">Intel Core i5 Processor (13th Gen)</li><li class=\"J+igdf\">16 GB DDR5 RAM</li><li class=\"J+igdf\">Windows 11 Operating System</li><li class=\"J+igdf\">512 GB SSD</li><li class=\"J+igdf\">40.89 cm (16.1 Inch) Display</li><li class=\"J+igdf\">1 Year Onsite Warranty</li></ul>,\n",
       " <ul class=\"G4BRas\"><li class=\"J+igdf\">Intel Core Ultra 7 Processor</li><li class=\"J+igdf\">16 GB DDR5 RAM</li><li class=\"J+igdf\">Windows 11 Operating System</li><li class=\"J+igdf\">1 TB SSD</li><li class=\"J+igdf\">39.62 cm (15.6 Inch) Display</li><li class=\"J+igdf\">2 Year Carry-in Warranty</li></ul>,\n",
       " <ul class=\"G4BRas\"><li class=\"J+igdf\">Intel Core Ultra 5 Processor</li><li class=\"J+igdf\">16 GB DDR5 RAM</li><li class=\"J+igdf\">Windows 11 Operating System</li><li class=\"J+igdf\">1 TB SSD</li><li class=\"J+igdf\">39.62 cm (15.6 Inch) Display</li><li class=\"J+igdf\">2 Year Carry-in Warranty</li></ul>,\n",
       " <ul class=\"G4BRas\"><li class=\"J+igdf\">Intel Core i5 Processor (13th Gen)</li><li class=\"J+igdf\">16 GB LPDDR5 RAM</li><li class=\"J+igdf\">Windows 11 Operating System</li><li class=\"J+igdf\">512 GB SSD</li><li class=\"J+igdf\">35.56 cm (14 inch) Display</li><li class=\"J+igdf\">1Yr Warranty + 1 Yr Premium Care and 1 Yr Accidental Damage Protection</li></ul>,\n",
       " <ul class=\"G4BRas\"><li class=\"J+igdf\">AMD Ryzen 5 Hexa Core Processor</li><li class=\"J+igdf\">16 GB DDR4 RAM</li><li class=\"J+igdf\">Windows 11 Operating System</li><li class=\"J+igdf\">512 GB SSD</li><li class=\"J+igdf\">35.56 cm (14 Inch) Display</li><li class=\"J+igdf\">1 Year Onsite Warranty</li></ul>,\n",
       " <ul class=\"G4BRas\"><li class=\"J+igdf\">AMD Ryzen 5 Hexa Core Processor</li><li class=\"J+igdf\">16 GB DDR5 RAM</li><li class=\"J+igdf\">Windows 11 Operating System</li><li class=\"J+igdf\">512 GB SSD</li><li class=\"J+igdf\">39.62 cm (15.6 Inch) Display</li><li class=\"J+igdf\">2 Year Onsite Warranty</li></ul>,\n",
       " <ul class=\"G4BRas\"><li class=\"J+igdf\">Intel Core Ultra 7 Processor</li><li class=\"J+igdf\">16 GB DDR5 RAM</li><li class=\"J+igdf\">Windows 11 Operating System</li><li class=\"J+igdf\">1 TB SSD</li><li class=\"J+igdf\">39.62 cm (15.6 Inch) Display</li><li class=\"J+igdf\">2 Year Carry-in Warranty</li></ul>,\n",
       " <ul class=\"G4BRas\"><li class=\"J+igdf\">Intel Core i7 Processor (14th Gen)</li><li class=\"J+igdf\">32 GB DDR5 RAM</li><li class=\"J+igdf\">Windows 11 Operating System</li><li class=\"J+igdf\">1 TB SSD</li><li class=\"J+igdf\">40.64 cm (16 Inch) Display</li><li class=\"J+igdf\">2 Year Onsite Warranty</li></ul>,\n",
       " <ul class=\"G4BRas\"><li class=\"J+igdf\">AMD Ryzen 5 Hexa Core Processor</li><li class=\"J+igdf\">8 GB DDR4 RAM</li><li class=\"J+igdf\">32 bit Windows 11 Operating System</li><li class=\"J+igdf\">256 GB SSD</li><li class=\"J+igdf\">39.62 cm (15.6 inch) Display</li><li class=\"J+igdf\">Windows</li><li class=\"J+igdf\">1 year Domestic warranty</li></ul>,\n",
       " <ul class=\"G4BRas\"><li class=\"J+igdf\">AMD Ryzen 7 Octa Core Processor (5th Gen)</li><li class=\"J+igdf\">16 GB DDR4 RAM</li><li class=\"J+igdf\">Windows 11 Operating System</li><li class=\"J+igdf\">512 GB SSD</li><li class=\"J+igdf\">39.62 cm (15.6 inch) Display</li><li class=\"J+igdf\">1 Yr. Onsite + 1 Yr. Accidental Damage Protection</li></ul>,\n",
       " <ul class=\"G4BRas\"><li class=\"J+igdf\">Intel Core i7 Processor (13th Gen)</li><li class=\"J+igdf\">16 GB DDR4 RAM</li><li class=\"J+igdf\">64 bit Windows 11 Operating System</li><li class=\"J+igdf\">1 TB SSD</li><li class=\"J+igdf\">39.62 cm (15.6 inch) Display</li><li class=\"J+igdf\">1 Year Onsite Warranty</li></ul>,\n",
       " <ul class=\"G4BRas\"><li class=\"J+igdf\">Intel Core i5 Processor (13th Gen)</li><li class=\"J+igdf\">16 GB DDR4 RAM</li><li class=\"J+igdf\">Windows 11 Operating System</li><li class=\"J+igdf\">1 TB SSD</li><li class=\"J+igdf\">39.62 cm (15.6 Inch) Display</li><li class=\"J+igdf\">2 Year Onsite Warranty</li></ul>,\n",
       " <ul class=\"G4BRas\"><li class=\"J+igdf\">Intel Core i5 Processor (12th Gen)</li><li class=\"J+igdf\">16 GB DDR5 RAM</li><li class=\"J+igdf\">Windows 11 Operating System</li><li class=\"J+igdf\">512 GB SSD</li><li class=\"J+igdf\">39.62 cm (15.6 Inch) Display</li><li class=\"J+igdf\">2 Year Onsite Warranty</li></ul>,\n",
       " <ul class=\"G4BRas\"><li class=\"J+igdf\">Intel Core i3 Processor</li><li class=\"J+igdf\">8 GB DDR4 RAM</li><li class=\"J+igdf\">Windows 11 Home Operating System</li><li class=\"J+igdf\">512 GB SSD</li><li class=\"J+igdf\">39.62 cm (15.6 inch) Display</li><li class=\"J+igdf\">1 Year Carry-in Warranty</li></ul>,\n",
       " <ul class=\"G4BRas\"><li class=\"J+igdf\">Intel Core i5 Processor (12th Gen)</li><li class=\"J+igdf\">8 GB DDR4 RAM</li><li class=\"J+igdf\">64 bit Windows 11 Operating System</li><li class=\"J+igdf\">512 GB SSD</li><li class=\"J+igdf\">39.62 cm (15.6 Inch) Display</li><li class=\"J+igdf\">1 Year Onsite Hardware Service</li></ul>,\n",
       " <ul class=\"G4BRas\"><li class=\"J+igdf\">Intel Core i7 Processor (14th Gen)</li><li class=\"J+igdf\">16 GB DDR5 RAM</li><li class=\"J+igdf\">Windows 11 Operating System</li><li class=\"J+igdf\">1 TB SSD</li><li class=\"J+igdf\">40.64 cm (16 Inch) Display</li><li class=\"J+igdf\">2 Year Onsite Warranty</li></ul>,\n",
       " <ul class=\"G4BRas\"><li class=\"J+igdf\">Intel Core i5 Processor (12th Gen)</li><li class=\"J+igdf\">16 GB DDR4 RAM</li><li class=\"J+igdf\">Windows 11 Operating System</li><li class=\"J+igdf\">512 GB SSD</li><li class=\"J+igdf\">39.62 cm (15.6 Inch) Display</li><li class=\"J+igdf\">1 Year Onsite Warranty</li></ul>,\n",
       " <ul class=\"G4BRas\"><li class=\"J+igdf\">Intel Core Ultra 5 Processor</li><li class=\"J+igdf\">16 GB DDR5 RAM</li><li class=\"J+igdf\">Windows 11 Operating System</li><li class=\"J+igdf\">512 GB SSD</li><li class=\"J+igdf\">35.56 cm (14 Inch) Display</li><li class=\"J+igdf\">1 Year Onsite Warranty</li></ul>,\n",
       " <ul class=\"G4BRas\"><li class=\"J+igdf\">Intel Core i5 Processor (11th Gen)</li><li class=\"J+igdf\">8 GB DDR4 RAM</li><li class=\"J+igdf\">Windows 11 Operating System</li><li class=\"J+igdf\">512 GB SSD</li><li class=\"J+igdf\">39.62 cm (15.6 Inch) Display</li><li class=\"J+igdf\">1 Year Carry-in Warranty</li></ul>]"
      ]
     },
     "execution_count": 17,
     "metadata": {},
     "output_type": "execute_result"
    }
   ],
   "source": [
    "details = soup.find_all(\"ul\",class_ ='G4BRas')\n",
    "details"
   ]
  },
  {
   "cell_type": "code",
   "execution_count": 18,
   "id": "079789ef-6271-4a42-8ffd-fcc6aba9f0f0",
   "metadata": {},
   "outputs": [],
   "source": [
    "details_name = []\n",
    "for i in details:\n",
    "    detail_name = i.text\n",
    "    details_name.append(Pro_name)"
   ]
  },
  {
   "cell_type": "code",
   "execution_count": 19,
   "id": "4e770b5a-966a-490c-9f2e-2a5f3e41179e",
   "metadata": {},
   "outputs": [
    {
     "data": {
      "text/plain": [
       "['ASUS TUF Gaming F15 - AI Powered Gaming Intel Core i5 11th Gen 11260H - (8 GB/512 GB SSD/Windows 11 Ho...',\n",
       " 'ASUS TUF Gaming F15 - AI Powered Gaming Intel Core i5 11th Gen 11260H - (8 GB/512 GB SSD/Windows 11 Ho...',\n",
       " 'ASUS TUF Gaming F15 - AI Powered Gaming Intel Core i5 11th Gen 11260H - (8 GB/512 GB SSD/Windows 11 Ho...',\n",
       " 'ASUS TUF Gaming F15 - AI Powered Gaming Intel Core i5 11th Gen 11260H - (8 GB/512 GB SSD/Windows 11 Ho...',\n",
       " 'ASUS TUF Gaming F15 - AI Powered Gaming Intel Core i5 11th Gen 11260H - (8 GB/512 GB SSD/Windows 11 Ho...',\n",
       " 'ASUS TUF Gaming F15 - AI Powered Gaming Intel Core i5 11th Gen 11260H - (8 GB/512 GB SSD/Windows 11 Ho...',\n",
       " 'ASUS TUF Gaming F15 - AI Powered Gaming Intel Core i5 11th Gen 11260H - (8 GB/512 GB SSD/Windows 11 Ho...',\n",
       " 'ASUS TUF Gaming F15 - AI Powered Gaming Intel Core i5 11th Gen 11260H - (8 GB/512 GB SSD/Windows 11 Ho...',\n",
       " 'ASUS TUF Gaming F15 - AI Powered Gaming Intel Core i5 11th Gen 11260H - (8 GB/512 GB SSD/Windows 11 Ho...',\n",
       " 'ASUS TUF Gaming F15 - AI Powered Gaming Intel Core i5 11th Gen 11260H - (8 GB/512 GB SSD/Windows 11 Ho...',\n",
       " 'ASUS TUF Gaming F15 - AI Powered Gaming Intel Core i5 11th Gen 11260H - (8 GB/512 GB SSD/Windows 11 Ho...',\n",
       " 'ASUS TUF Gaming F15 - AI Powered Gaming Intel Core i5 11th Gen 11260H - (8 GB/512 GB SSD/Windows 11 Ho...',\n",
       " 'ASUS TUF Gaming F15 - AI Powered Gaming Intel Core i5 11th Gen 11260H - (8 GB/512 GB SSD/Windows 11 Ho...',\n",
       " 'ASUS TUF Gaming F15 - AI Powered Gaming Intel Core i5 11th Gen 11260H - (8 GB/512 GB SSD/Windows 11 Ho...',\n",
       " 'ASUS TUF Gaming F15 - AI Powered Gaming Intel Core i5 11th Gen 11260H - (8 GB/512 GB SSD/Windows 11 Ho...',\n",
       " 'ASUS TUF Gaming F15 - AI Powered Gaming Intel Core i5 11th Gen 11260H - (8 GB/512 GB SSD/Windows 11 Ho...',\n",
       " 'ASUS TUF Gaming F15 - AI Powered Gaming Intel Core i5 11th Gen 11260H - (8 GB/512 GB SSD/Windows 11 Ho...',\n",
       " 'ASUS TUF Gaming F15 - AI Powered Gaming Intel Core i5 11th Gen 11260H - (8 GB/512 GB SSD/Windows 11 Ho...',\n",
       " 'ASUS TUF Gaming F15 - AI Powered Gaming Intel Core i5 11th Gen 11260H - (8 GB/512 GB SSD/Windows 11 Ho...',\n",
       " 'ASUS TUF Gaming F15 - AI Powered Gaming Intel Core i5 11th Gen 11260H - (8 GB/512 GB SSD/Windows 11 Ho...',\n",
       " 'ASUS TUF Gaming F15 - AI Powered Gaming Intel Core i5 11th Gen 11260H - (8 GB/512 GB SSD/Windows 11 Ho...',\n",
       " 'ASUS TUF Gaming F15 - AI Powered Gaming Intel Core i5 11th Gen 11260H - (8 GB/512 GB SSD/Windows 11 Ho...',\n",
       " 'ASUS TUF Gaming F15 - AI Powered Gaming Intel Core i5 11th Gen 11260H - (8 GB/512 GB SSD/Windows 11 Ho...',\n",
       " 'ASUS TUF Gaming F15 - AI Powered Gaming Intel Core i5 11th Gen 11260H - (8 GB/512 GB SSD/Windows 11 Ho...']"
      ]
     },
     "execution_count": 19,
     "metadata": {},
     "output_type": "execute_result"
    }
   ],
   "source": [
    "details_name"
   ]
  },
  {
   "cell_type": "code",
   "execution_count": 20,
   "id": "a084295b-22a6-479d-ae39-1930e8476e89",
   "metadata": {},
   "outputs": [
    {
     "data": {
      "text/plain": [
       "24"
      ]
     },
     "execution_count": 20,
     "metadata": {},
     "output_type": "execute_result"
    }
   ],
   "source": [
    "len(details_name)"
   ]
  },
  {
   "cell_type": "code",
   "execution_count": 21,
   "id": "dbf0aec1-aab5-4707-8a08-c4a79578784e",
   "metadata": {},
   "outputs": [
    {
     "data": {
      "text/html": [
       "<div>\n",
       "<style scoped>\n",
       "    .dataframe tbody tr th:only-of-type {\n",
       "        vertical-align: middle;\n",
       "    }\n",
       "\n",
       "    .dataframe tbody tr th {\n",
       "        vertical-align: top;\n",
       "    }\n",
       "\n",
       "    .dataframe thead th {\n",
       "        text-align: right;\n",
       "    }\n",
       "</style>\n",
       "<table border=\"1\" class=\"dataframe\">\n",
       "  <thead>\n",
       "    <tr style=\"text-align: right;\">\n",
       "      <th></th>\n",
       "      <th>Brand</th>\n",
       "      <th>Details</th>\n",
       "    </tr>\n",
       "  </thead>\n",
       "  <tbody>\n",
       "    <tr>\n",
       "      <th>0</th>\n",
       "      <td>MSI Cyborg 15 Intel Core i5 12th Gen 12450H - ...</td>\n",
       "      <td>ASUS TUF Gaming F15 - AI Powered Gaming Intel ...</td>\n",
       "    </tr>\n",
       "    <tr>\n",
       "      <th>1</th>\n",
       "      <td>Lenovo Intel Core i7 12th Gen 1255U - (16 GB/5...</td>\n",
       "      <td>ASUS TUF Gaming F15 - AI Powered Gaming Intel ...</td>\n",
       "    </tr>\n",
       "    <tr>\n",
       "      <th>2</th>\n",
       "      <td>Lenovo IdeaPad 1 Intel Celeron Dual Core N4020...</td>\n",
       "      <td>ASUS TUF Gaming F15 - AI Powered Gaming Intel ...</td>\n",
       "    </tr>\n",
       "    <tr>\n",
       "      <th>3</th>\n",
       "      <td>DELL Inspiron Intel Core i3 11th Gen 1115G4 - ...</td>\n",
       "      <td>ASUS TUF Gaming F15 - AI Powered Gaming Intel ...</td>\n",
       "    </tr>\n",
       "    <tr>\n",
       "      <th>4</th>\n",
       "      <td>ASUS Vivobook S 15 OLED Intel Core i9 13th Gen...</td>\n",
       "      <td>ASUS TUF Gaming F15 - AI Powered Gaming Intel ...</td>\n",
       "    </tr>\n",
       "    <tr>\n",
       "      <th>5</th>\n",
       "      <td>HP OMEN Intel Core i5 13th Gen 13420H - (16 GB...</td>\n",
       "      <td>ASUS TUF Gaming F15 - AI Powered Gaming Intel ...</td>\n",
       "    </tr>\n",
       "    <tr>\n",
       "      <th>6</th>\n",
       "      <td>MSI Cyborg 15 AI PC Intel Core Ultra 7 155H - ...</td>\n",
       "      <td>ASUS TUF Gaming F15 - AI Powered Gaming Intel ...</td>\n",
       "    </tr>\n",
       "    <tr>\n",
       "      <th>7</th>\n",
       "      <td>MSI Cyborg 15 AI PC Intel Core Ultra 5 125H - ...</td>\n",
       "      <td>ASUS TUF Gaming F15 - AI Powered Gaming Intel ...</td>\n",
       "    </tr>\n",
       "    <tr>\n",
       "      <th>8</th>\n",
       "      <td>Lenovo IdeaPad Slim 5 Intel Core i5 13th Gen -...</td>\n",
       "      <td>ASUS TUF Gaming F15 - AI Powered Gaming Intel ...</td>\n",
       "    </tr>\n",
       "    <tr>\n",
       "      <th>9</th>\n",
       "      <td>MSI Modern 14 AMD Ryzen 5 Hexa Core 7530U - (1...</td>\n",
       "      <td>ASUS TUF Gaming F15 - AI Powered Gaming Intel ...</td>\n",
       "    </tr>\n",
       "    <tr>\n",
       "      <th>10</th>\n",
       "      <td>MSI Thin A15 AMD Ryzen 5 Hexa Core 7535HS - (1...</td>\n",
       "      <td>ASUS TUF Gaming F15 - AI Powered Gaming Intel ...</td>\n",
       "    </tr>\n",
       "    <tr>\n",
       "      <th>11</th>\n",
       "      <td>MSI Cyborg 15 AI PC Intel Core Ultra 7 155H - ...</td>\n",
       "      <td>ASUS TUF Gaming F15 - AI Powered Gaming Intel ...</td>\n",
       "    </tr>\n",
       "    <tr>\n",
       "      <th>12</th>\n",
       "      <td>MSI Crosshair 16 HX Intel Core i7 14th Gen 147...</td>\n",
       "      <td>ASUS TUF Gaming F15 - AI Powered Gaming Intel ...</td>\n",
       "    </tr>\n",
       "    <tr>\n",
       "      <th>13</th>\n",
       "      <td>HP 255 G8 Silver AMD Ryzen 5 Hexa Core AMD Ryz...</td>\n",
       "      <td>ASUS TUF Gaming F15 - AI Powered Gaming Intel ...</td>\n",
       "    </tr>\n",
       "    <tr>\n",
       "      <th>14</th>\n",
       "      <td>Lenovo IdeaPad Slim 3 Backlit AMD Ryzen 7 Octa...</td>\n",
       "      <td>ASUS TUF Gaming F15 - AI Powered Gaming Intel ...</td>\n",
       "    </tr>\n",
       "    <tr>\n",
       "      <th>15</th>\n",
       "      <td>HP Pavilion Intel Core i7 13th Gen 1360P - (16...</td>\n",
       "      <td>ASUS TUF Gaming F15 - AI Powered Gaming Intel ...</td>\n",
       "    </tr>\n",
       "    <tr>\n",
       "      <th>16</th>\n",
       "      <td>MSI Thin 15 Intel Core i5 13th Gen 13420H - (1...</td>\n",
       "      <td>ASUS TUF Gaming F15 - AI Powered Gaming Intel ...</td>\n",
       "    </tr>\n",
       "    <tr>\n",
       "      <th>17</th>\n",
       "      <td>MSI Cyborg 15 Intel Core i5 12th Gen 12450H - ...</td>\n",
       "      <td>ASUS TUF Gaming F15 - AI Powered Gaming Intel ...</td>\n",
       "    </tr>\n",
       "    <tr>\n",
       "      <th>18</th>\n",
       "      <td>HP Laptop Intel Core i3 N305 - (8 GB/512 GB SS...</td>\n",
       "      <td>ASUS TUF Gaming F15 - AI Powered Gaming Intel ...</td>\n",
       "    </tr>\n",
       "    <tr>\n",
       "      <th>19</th>\n",
       "      <td>DELL Inspiron 15 with Backlit Keyboard, Intel ...</td>\n",
       "      <td>ASUS TUF Gaming F15 - AI Powered Gaming Intel ...</td>\n",
       "    </tr>\n",
       "    <tr>\n",
       "      <th>20</th>\n",
       "      <td>MSI Sword 16 HX Intel Core i7 14th Gen 14700HX...</td>\n",
       "      <td>ASUS TUF Gaming F15 - AI Powered Gaming Intel ...</td>\n",
       "    </tr>\n",
       "    <tr>\n",
       "      <th>21</th>\n",
       "      <td>Acer Aspire 7 Intel Core i5 12th Gen 12450H - ...</td>\n",
       "      <td>ASUS TUF Gaming F15 - AI Powered Gaming Intel ...</td>\n",
       "    </tr>\n",
       "    <tr>\n",
       "      <th>22</th>\n",
       "      <td>HP Intel Core Ultra 5 125H - (16 GB/512 GB SSD...</td>\n",
       "      <td>ASUS TUF Gaming F15 - AI Powered Gaming Intel ...</td>\n",
       "    </tr>\n",
       "    <tr>\n",
       "      <th>23</th>\n",
       "      <td>ASUS TUF Gaming F15 - AI Powered Gaming Intel ...</td>\n",
       "      <td>ASUS TUF Gaming F15 - AI Powered Gaming Intel ...</td>\n",
       "    </tr>\n",
       "  </tbody>\n",
       "</table>\n",
       "</div>"
      ],
      "text/plain": [
       "                                                Brand  \\\n",
       "0   MSI Cyborg 15 Intel Core i5 12th Gen 12450H - ...   \n",
       "1   Lenovo Intel Core i7 12th Gen 1255U - (16 GB/5...   \n",
       "2   Lenovo IdeaPad 1 Intel Celeron Dual Core N4020...   \n",
       "3   DELL Inspiron Intel Core i3 11th Gen 1115G4 - ...   \n",
       "4   ASUS Vivobook S 15 OLED Intel Core i9 13th Gen...   \n",
       "5   HP OMEN Intel Core i5 13th Gen 13420H - (16 GB...   \n",
       "6   MSI Cyborg 15 AI PC Intel Core Ultra 7 155H - ...   \n",
       "7   MSI Cyborg 15 AI PC Intel Core Ultra 5 125H - ...   \n",
       "8   Lenovo IdeaPad Slim 5 Intel Core i5 13th Gen -...   \n",
       "9   MSI Modern 14 AMD Ryzen 5 Hexa Core 7530U - (1...   \n",
       "10  MSI Thin A15 AMD Ryzen 5 Hexa Core 7535HS - (1...   \n",
       "11  MSI Cyborg 15 AI PC Intel Core Ultra 7 155H - ...   \n",
       "12  MSI Crosshair 16 HX Intel Core i7 14th Gen 147...   \n",
       "13  HP 255 G8 Silver AMD Ryzen 5 Hexa Core AMD Ryz...   \n",
       "14  Lenovo IdeaPad Slim 3 Backlit AMD Ryzen 7 Octa...   \n",
       "15  HP Pavilion Intel Core i7 13th Gen 1360P - (16...   \n",
       "16  MSI Thin 15 Intel Core i5 13th Gen 13420H - (1...   \n",
       "17  MSI Cyborg 15 Intel Core i5 12th Gen 12450H - ...   \n",
       "18  HP Laptop Intel Core i3 N305 - (8 GB/512 GB SS...   \n",
       "19  DELL Inspiron 15 with Backlit Keyboard, Intel ...   \n",
       "20  MSI Sword 16 HX Intel Core i7 14th Gen 14700HX...   \n",
       "21  Acer Aspire 7 Intel Core i5 12th Gen 12450H - ...   \n",
       "22  HP Intel Core Ultra 5 125H - (16 GB/512 GB SSD...   \n",
       "23  ASUS TUF Gaming F15 - AI Powered Gaming Intel ...   \n",
       "\n",
       "                                              Details  \n",
       "0   ASUS TUF Gaming F15 - AI Powered Gaming Intel ...  \n",
       "1   ASUS TUF Gaming F15 - AI Powered Gaming Intel ...  \n",
       "2   ASUS TUF Gaming F15 - AI Powered Gaming Intel ...  \n",
       "3   ASUS TUF Gaming F15 - AI Powered Gaming Intel ...  \n",
       "4   ASUS TUF Gaming F15 - AI Powered Gaming Intel ...  \n",
       "5   ASUS TUF Gaming F15 - AI Powered Gaming Intel ...  \n",
       "6   ASUS TUF Gaming F15 - AI Powered Gaming Intel ...  \n",
       "7   ASUS TUF Gaming F15 - AI Powered Gaming Intel ...  \n",
       "8   ASUS TUF Gaming F15 - AI Powered Gaming Intel ...  \n",
       "9   ASUS TUF Gaming F15 - AI Powered Gaming Intel ...  \n",
       "10  ASUS TUF Gaming F15 - AI Powered Gaming Intel ...  \n",
       "11  ASUS TUF Gaming F15 - AI Powered Gaming Intel ...  \n",
       "12  ASUS TUF Gaming F15 - AI Powered Gaming Intel ...  \n",
       "13  ASUS TUF Gaming F15 - AI Powered Gaming Intel ...  \n",
       "14  ASUS TUF Gaming F15 - AI Powered Gaming Intel ...  \n",
       "15  ASUS TUF Gaming F15 - AI Powered Gaming Intel ...  \n",
       "16  ASUS TUF Gaming F15 - AI Powered Gaming Intel ...  \n",
       "17  ASUS TUF Gaming F15 - AI Powered Gaming Intel ...  \n",
       "18  ASUS TUF Gaming F15 - AI Powered Gaming Intel ...  \n",
       "19  ASUS TUF Gaming F15 - AI Powered Gaming Intel ...  \n",
       "20  ASUS TUF Gaming F15 - AI Powered Gaming Intel ...  \n",
       "21  ASUS TUF Gaming F15 - AI Powered Gaming Intel ...  \n",
       "22  ASUS TUF Gaming F15 - AI Powered Gaming Intel ...  \n",
       "23  ASUS TUF Gaming F15 - AI Powered Gaming Intel ...  "
      ]
     },
     "execution_count": 21,
     "metadata": {},
     "output_type": "execute_result"
    }
   ],
   "source": [
    "df = pd.DataFrame({\"Brand\":Product_name,\"Details\":details_name})\n",
    "df"
   ]
  },
  {
   "cell_type": "code",
   "execution_count": 22,
   "id": "08823967-890d-48d3-ad34-a922a081aae8",
   "metadata": {},
   "outputs": [
    {
     "name": "stdout",
     "output_type": "stream",
     "text": [
      "https://www.flipkart.com/search?q=laptops&as=on&as-show=on&otracker=AS_Query_TrendingAutoSuggest_4_0_na_na_na&otracker1=AS_Query_TrendingAutoSuggest_4_0_na_na_na&as-pos=4&as-type=TRENDING&suggestionId=laptops&requestId=d7f0e667-a4ff-43cd-8765-ff202b124dd0&page=1\n",
      "https://www.flipkart.com/search?q=laptops&as=on&as-show=on&otracker=AS_Query_TrendingAutoSuggest_4_0_na_na_na&otracker1=AS_Query_TrendingAutoSuggest_4_0_na_na_na&as-pos=4&as-type=TRENDING&suggestionId=laptops&requestId=d7f0e667-a4ff-43cd-8765-ff202b124dd0&page=2\n",
      "https://www.flipkart.com/search?q=laptops&as=on&as-show=on&otracker=AS_Query_TrendingAutoSuggest_4_0_na_na_na&otracker1=AS_Query_TrendingAutoSuggest_4_0_na_na_na&as-pos=4&as-type=TRENDING&suggestionId=laptops&requestId=d7f0e667-a4ff-43cd-8765-ff202b124dd0&page=3\n",
      "https://www.flipkart.com/search?q=laptops&as=on&as-show=on&otracker=AS_Query_TrendingAutoSuggest_4_0_na_na_na&otracker1=AS_Query_TrendingAutoSuggest_4_0_na_na_na&as-pos=4&as-type=TRENDING&suggestionId=laptops&requestId=d7f0e667-a4ff-43cd-8765-ff202b124dd0&page=4\n",
      "https://www.flipkart.com/search?q=laptops&as=on&as-show=on&otracker=AS_Query_TrendingAutoSuggest_4_0_na_na_na&otracker1=AS_Query_TrendingAutoSuggest_4_0_na_na_na&as-pos=4&as-type=TRENDING&suggestionId=laptops&requestId=d7f0e667-a4ff-43cd-8765-ff202b124dd0&page=5\n",
      "https://www.flipkart.com/search?q=laptops&as=on&as-show=on&otracker=AS_Query_TrendingAutoSuggest_4_0_na_na_na&otracker1=AS_Query_TrendingAutoSuggest_4_0_na_na_na&as-pos=4&as-type=TRENDING&suggestionId=laptops&requestId=d7f0e667-a4ff-43cd-8765-ff202b124dd0&page=6\n",
      "https://www.flipkart.com/search?q=laptops&as=on&as-show=on&otracker=AS_Query_TrendingAutoSuggest_4_0_na_na_na&otracker1=AS_Query_TrendingAutoSuggest_4_0_na_na_na&as-pos=4&as-type=TRENDING&suggestionId=laptops&requestId=d7f0e667-a4ff-43cd-8765-ff202b124dd0&page=7\n",
      "https://www.flipkart.com/search?q=laptops&as=on&as-show=on&otracker=AS_Query_TrendingAutoSuggest_4_0_na_na_na&otracker1=AS_Query_TrendingAutoSuggest_4_0_na_na_na&as-pos=4&as-type=TRENDING&suggestionId=laptops&requestId=d7f0e667-a4ff-43cd-8765-ff202b124dd0&page=8\n",
      "https://www.flipkart.com/search?q=laptops&as=on&as-show=on&otracker=AS_Query_TrendingAutoSuggest_4_0_na_na_na&otracker1=AS_Query_TrendingAutoSuggest_4_0_na_na_na&as-pos=4&as-type=TRENDING&suggestionId=laptops&requestId=d7f0e667-a4ff-43cd-8765-ff202b124dd0&page=9\n",
      "https://www.flipkart.com/search?q=laptops&as=on&as-show=on&otracker=AS_Query_TrendingAutoSuggest_4_0_na_na_na&otracker1=AS_Query_TrendingAutoSuggest_4_0_na_na_na&as-pos=4&as-type=TRENDING&suggestionId=laptops&requestId=d7f0e667-a4ff-43cd-8765-ff202b124dd0&page=10\n"
     ]
    }
   ],
   "source": [
    "Product_name = []\n",
    "details_name = []\n",
    "\n",
    "for i in range(2,12):\n",
    "    url=\"https://www.flipkart.com/search?q=laptops&as=on&as-show=on&otracker=AS_Query_TrendingAutoSuggest_4_0_na_na_na&otracker1=AS_Query_TrendingAutoSuggest_4_0_na_na_na&as-pos=4&as-type=TRENDING&suggestionId=laptops&requestId=d7f0e667-a4ff-43cd-8765-ff202b124dd0&page=\"+str(i)\n",
    "    r =rq.get(url)\n",
    "    soup = bs(r.text,\"html\")\n",
    "    np = soup.find('a',class_='_9QVEpD').get('href')\n",
    "    comp_link =  \"https://www.flipkart.com\"+np\n",
    "    print(comp_link)\n",
    "\n",
    "\n",
    "    for i in name:\n",
    "        Pro_name = i.text\n",
    "        Product_name.append(Pro_name)\n",
    "\n",
    "    for i in details:\n",
    "        detail_name = i.text\n",
    "        details_name.append(Pro_name)"
   ]
  },
  {
   "cell_type": "code",
   "execution_count": 23,
   "id": "a3234011-d969-4e3b-8138-bc73bffa7dec",
   "metadata": {},
   "outputs": [
    {
     "data": {
      "text/plain": [
       "240"
      ]
     },
     "execution_count": 23,
     "metadata": {},
     "output_type": "execute_result"
    }
   ],
   "source": [
    "len(Product_name)\n"
   ]
  },
  {
   "cell_type": "code",
   "execution_count": 24,
   "id": "380c792b-e1cf-46b5-975c-88b7f6d4a3c3",
   "metadata": {},
   "outputs": [
    {
     "data": {
      "text/plain": [
       "240"
      ]
     },
     "execution_count": 24,
     "metadata": {},
     "output_type": "execute_result"
    }
   ],
   "source": [
    "len(details_name)"
   ]
  },
  {
   "cell_type": "code",
   "execution_count": 25,
   "id": "ef386aa2-9612-45d8-93df-62c38807f279",
   "metadata": {},
   "outputs": [],
   "source": [
    "df = pd.DataFrame({\"Product_name\":Product_name,'Details_name':details_name})"
   ]
  },
  {
   "cell_type": "code",
   "execution_count": 26,
   "id": "c39db208-03a4-44a5-93be-1dd9723f21af",
   "metadata": {},
   "outputs": [
    {
     "data": {
      "text/html": [
       "<div>\n",
       "<style scoped>\n",
       "    .dataframe tbody tr th:only-of-type {\n",
       "        vertical-align: middle;\n",
       "    }\n",
       "\n",
       "    .dataframe tbody tr th {\n",
       "        vertical-align: top;\n",
       "    }\n",
       "\n",
       "    .dataframe thead th {\n",
       "        text-align: right;\n",
       "    }\n",
       "</style>\n",
       "<table border=\"1\" class=\"dataframe\">\n",
       "  <thead>\n",
       "    <tr style=\"text-align: right;\">\n",
       "      <th></th>\n",
       "      <th>Product_name</th>\n",
       "      <th>Details_name</th>\n",
       "    </tr>\n",
       "  </thead>\n",
       "  <tbody>\n",
       "    <tr>\n",
       "      <th>0</th>\n",
       "      <td>MSI Cyborg 15 Intel Core i5 12th Gen 12450H - ...</td>\n",
       "      <td>ASUS TUF Gaming F15 - AI Powered Gaming Intel ...</td>\n",
       "    </tr>\n",
       "    <tr>\n",
       "      <th>1</th>\n",
       "      <td>Lenovo Intel Core i7 12th Gen 1255U - (16 GB/5...</td>\n",
       "      <td>ASUS TUF Gaming F15 - AI Powered Gaming Intel ...</td>\n",
       "    </tr>\n",
       "    <tr>\n",
       "      <th>2</th>\n",
       "      <td>Lenovo IdeaPad 1 Intel Celeron Dual Core N4020...</td>\n",
       "      <td>ASUS TUF Gaming F15 - AI Powered Gaming Intel ...</td>\n",
       "    </tr>\n",
       "    <tr>\n",
       "      <th>3</th>\n",
       "      <td>DELL Inspiron Intel Core i3 11th Gen 1115G4 - ...</td>\n",
       "      <td>ASUS TUF Gaming F15 - AI Powered Gaming Intel ...</td>\n",
       "    </tr>\n",
       "    <tr>\n",
       "      <th>4</th>\n",
       "      <td>ASUS Vivobook S 15 OLED Intel Core i9 13th Gen...</td>\n",
       "      <td>ASUS TUF Gaming F15 - AI Powered Gaming Intel ...</td>\n",
       "    </tr>\n",
       "    <tr>\n",
       "      <th>...</th>\n",
       "      <td>...</td>\n",
       "      <td>...</td>\n",
       "    </tr>\n",
       "    <tr>\n",
       "      <th>235</th>\n",
       "      <td>DELL Inspiron 15 with Backlit Keyboard, Intel ...</td>\n",
       "      <td>ASUS TUF Gaming F15 - AI Powered Gaming Intel ...</td>\n",
       "    </tr>\n",
       "    <tr>\n",
       "      <th>236</th>\n",
       "      <td>MSI Sword 16 HX Intel Core i7 14th Gen 14700HX...</td>\n",
       "      <td>ASUS TUF Gaming F15 - AI Powered Gaming Intel ...</td>\n",
       "    </tr>\n",
       "    <tr>\n",
       "      <th>237</th>\n",
       "      <td>Acer Aspire 7 Intel Core i5 12th Gen 12450H - ...</td>\n",
       "      <td>ASUS TUF Gaming F15 - AI Powered Gaming Intel ...</td>\n",
       "    </tr>\n",
       "    <tr>\n",
       "      <th>238</th>\n",
       "      <td>HP Intel Core Ultra 5 125H - (16 GB/512 GB SSD...</td>\n",
       "      <td>ASUS TUF Gaming F15 - AI Powered Gaming Intel ...</td>\n",
       "    </tr>\n",
       "    <tr>\n",
       "      <th>239</th>\n",
       "      <td>ASUS TUF Gaming F15 - AI Powered Gaming Intel ...</td>\n",
       "      <td>ASUS TUF Gaming F15 - AI Powered Gaming Intel ...</td>\n",
       "    </tr>\n",
       "  </tbody>\n",
       "</table>\n",
       "<p>240 rows × 2 columns</p>\n",
       "</div>"
      ],
      "text/plain": [
       "                                          Product_name  \\\n",
       "0    MSI Cyborg 15 Intel Core i5 12th Gen 12450H - ...   \n",
       "1    Lenovo Intel Core i7 12th Gen 1255U - (16 GB/5...   \n",
       "2    Lenovo IdeaPad 1 Intel Celeron Dual Core N4020...   \n",
       "3    DELL Inspiron Intel Core i3 11th Gen 1115G4 - ...   \n",
       "4    ASUS Vivobook S 15 OLED Intel Core i9 13th Gen...   \n",
       "..                                                 ...   \n",
       "235  DELL Inspiron 15 with Backlit Keyboard, Intel ...   \n",
       "236  MSI Sword 16 HX Intel Core i7 14th Gen 14700HX...   \n",
       "237  Acer Aspire 7 Intel Core i5 12th Gen 12450H - ...   \n",
       "238  HP Intel Core Ultra 5 125H - (16 GB/512 GB SSD...   \n",
       "239  ASUS TUF Gaming F15 - AI Powered Gaming Intel ...   \n",
       "\n",
       "                                          Details_name  \n",
       "0    ASUS TUF Gaming F15 - AI Powered Gaming Intel ...  \n",
       "1    ASUS TUF Gaming F15 - AI Powered Gaming Intel ...  \n",
       "2    ASUS TUF Gaming F15 - AI Powered Gaming Intel ...  \n",
       "3    ASUS TUF Gaming F15 - AI Powered Gaming Intel ...  \n",
       "4    ASUS TUF Gaming F15 - AI Powered Gaming Intel ...  \n",
       "..                                                 ...  \n",
       "235  ASUS TUF Gaming F15 - AI Powered Gaming Intel ...  \n",
       "236  ASUS TUF Gaming F15 - AI Powered Gaming Intel ...  \n",
       "237  ASUS TUF Gaming F15 - AI Powered Gaming Intel ...  \n",
       "238  ASUS TUF Gaming F15 - AI Powered Gaming Intel ...  \n",
       "239  ASUS TUF Gaming F15 - AI Powered Gaming Intel ...  \n",
       "\n",
       "[240 rows x 2 columns]"
      ]
     },
     "execution_count": 26,
     "metadata": {},
     "output_type": "execute_result"
    }
   ],
   "source": [
    "df"
   ]
  },
  {
   "cell_type": "code",
   "execution_count": 27,
   "id": "608c7556-964d-41e9-a5b0-488a36610f85",
   "metadata": {},
   "outputs": [],
   "source": [
    "df.to_excel('flipcart360.xlsx',index=False)"
   ]
  },
  {
   "cell_type": "code",
   "execution_count": null,
   "id": "d3ef85cc-2441-4dbf-831b-1b01251b47e7",
   "metadata": {},
   "outputs": [],
   "source": []
  }
 ],
 "metadata": {
  "kernelspec": {
   "display_name": "Python 3 (ipykernel)",
   "language": "python",
   "name": "python3"
  },
  "language_info": {
   "codemirror_mode": {
    "name": "ipython",
    "version": 3
   },
   "file_extension": ".py",
   "mimetype": "text/x-python",
   "name": "python",
   "nbconvert_exporter": "python",
   "pygments_lexer": "ipython3",
   "version": "3.12.5"
  }
 },
 "nbformat": 4,
 "nbformat_minor": 5
}
