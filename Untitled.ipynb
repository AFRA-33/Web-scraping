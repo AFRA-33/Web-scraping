{
 "cells": [
  {
   "cell_type": "code",
   "execution_count": 1,
   "id": "0206d189-7b63-48eb-99d7-7c14334801e4",
   "metadata": {},
   "outputs": [],
   "source": [
    "import time\n",
    "import pandas as pd"
   ]
  },
  {
   "cell_type": "code",
   "execution_count": 2,
   "id": "46c3a76e-cf6e-4edc-86aa-760edcc3f577",
   "metadata": {},
   "outputs": [],
   "source": [
    "# Importing the webdriver module to interact with the browser\n",
    "from selenium import webdriver \n",
    "\n",
    "# Automatically manages and installs the appropriate ChromeDriver\n",
    "from webdriver_manager.chrome import ChromeDriverManager  \n",
    "\n",
    "# Used to specify the path to the WebDriver executable (ChromeDriver in this case)\n",
    "from selenium.webdriver.chrome.service import Service \n",
    "\n",
    "# Allows you to customize Chrome's behavior \n",
    "from selenium.webdriver.chrome.options import Options\n",
    "\n",
    "# Importing By class from Selenium webdriver.common module\n",
    "from selenium.webdriver.common.by import By \n",
    "\n",
    "# Setting up Chrome options (optional configuration for Chrome browser)\n",
    "options = Options()\n",
    "\n",
    "# Adding experimental option to keep the browser open after the script ends\n",
    "options.add_experimental_option(\"detach\", True)  \n",
    "\n",
    "driver = webdriver.Chrome(service=Service(ChromeDriverManager().install()), options=options)\n",
    "\n",
    "driver.maximize_window()"
   ]
  },
  {
   "cell_type": "code",
   "execution_count": 3,
   "id": "f1af8985-6a94-4ccd-a233-e4ffa00953c3",
   "metadata": {},
   "outputs": [],
   "source": [
    "# Initialize lists for product names and prices\n",
    "product_title, product_prices = [], []\n",
    "\n",
    "# Iterate through pages 1 to 10\n",
    "for page in range(1, 11):\n",
    "    url = f'https://www.flipkart.com/search?q=watch&otracker=search&otracker1=search&marketplace=FLIPKART&as-show=off&as=off&page={page}'\n",
    "    driver.get(url)\n",
    "    \n",
    "    # Wait for the page to load completely\n",
    "    time.sleep(5)\n",
    "\n",
    "    # Scrape product titles\n",
    "    title = [element.text for element in driver.find_elements(By.CLASS_NAME, \"WKTcLC\")]\n",
    "\n",
    "    # Scrape product prices using the correct XPath for class=\"Nx9bqj\"\n",
    "    price_elements = driver.find_elements(By.XPATH, \"//*[contains(@class, 'Nx9bqj') and not(contains(@class, ' '))]\")\n",
    "\n",
    "    prices = [element.text for element in price_elements]\n",
    "\n",
    "    # Extend the lists with the new data\n",
    "    product_title.extend(title)\n",
    "    product_prices.extend(prices)"
   ]
  },
  {
   "cell_type": "code",
   "execution_count": 4,
   "id": "96905687-0115-4b81-8c27-6aa8c94f5246",
   "metadata": {},
   "outputs": [
    {
     "name": "stdout",
     "output_type": "stream",
     "text": [
      "400\n",
      "400\n"
     ]
    }
   ],
   "source": [
    "print(len(product_title))\n",
    "print(len(product_prices))"
   ]
  },
  {
   "cell_type": "code",
   "execution_count": null,
   "id": "35943981-7e2a-430c-a718-86867f8cc672",
   "metadata": {},
   "outputs": [],
   "source": []
  },
  {
   "cell_type": "code",
   "execution_count": null,
   "id": "3b5e8bdb-2cdf-413b-a987-6777684bc22f",
   "metadata": {},
   "outputs": [],
   "source": []
  },
  {
   "cell_type": "code",
   "execution_count": null,
   "id": "bd736580-4df6-4cac-a36e-d0dd80be0fe2",
   "metadata": {},
   "outputs": [],
   "source": []
  }
 ],
 "metadata": {
  "kernelspec": {
   "display_name": "Python 3 (ipykernel)",
   "language": "python",
   "name": "python3"
  },
  "language_info": {
   "codemirror_mode": {
    "name": "ipython",
    "version": 3
   },
   "file_extension": ".py",
   "mimetype": "text/x-python",
   "name": "python",
   "nbconvert_exporter": "python",
   "pygments_lexer": "ipython3",
   "version": "3.12.5"
  }
 },
 "nbformat": 4,
 "nbformat_minor": 5
}
